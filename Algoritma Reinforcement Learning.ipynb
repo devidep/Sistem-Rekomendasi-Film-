{
  "nbformat": 4,
  "nbformat_minor": 0,
  "metadata": {
    "colab": {
      "provenance": []
    },
    "kernelspec": {
      "name": "python3",
      "display_name": "Python 3"
    },
    "language_info": {
      "name": "python"
    }
  },
  "cells": [
    {
      "cell_type": "code",
      "execution_count": 58,
      "metadata": {
        "id": "PzhMruAEaMtZ"
      },
      "outputs": [],
      "source": [
        "\n",
        "\n"
      ]
    },
    {
      "cell_type": "code",
      "source": [
        "movies = ['Movie1', 'Movie2', 'Movie3', 'Movie4', 'Movie5']\n",
        "num_movies = len(movies)"
      ],
      "metadata": {
        "id": "j67bGRw-aWYp"
      },
      "execution_count": 59,
      "outputs": []
    },
    {
      "cell_type": "code",
      "source": [
        "rewards = np.array([1, -1])"
      ],
      "metadata": {
        "id": "GdHmY5EradOv"
      },
      "execution_count": 60,
      "outputs": []
    },
    {
      "cell_type": "code",
      "source": [
        "Q = np.zeros((num_movies, len(rewards)))\n"
      ],
      "metadata": {
        "id": "QKyWI1Upaht-"
      },
      "execution_count": 61,
      "outputs": []
    },
    {
      "cell_type": "code",
      "source": [
        "def choose_movie(state, Q):\n",
        "    return np.argmax(Q[state, :])"
      ],
      "metadata": {
        "id": "YUJG5vwJalVx"
      },
      "execution_count": 62,
      "outputs": []
    },
    {
      "cell_type": "code",
      "source": [
        "def update_Q(Q, state, action, reward, learning_rate):\n",
        "    predict = Q[state, action]\n",
        "    target = reward\n",
        "    Q[state, action] += learning_rate * (target - predict)\n",
        "    return Q"
      ],
      "metadata": {
        "id": "6Ip-h1uvaq2V"
      },
      "execution_count": 63,
      "outputs": []
    },
    {
      "cell_type": "code",
      "source": [
        "def run_episode(Q, rewards, learning_rate):\n",
        "    state = np.random.randint(num_movies)  # Pilih state awal secara acak # Initialize the state variable here\n",
        "    total_reward = 0\n",
        "    while True:\n",
        "        action = choose_movie(state, Q)\n",
        "        reward = rewards[np.random.randint(len(rewards))]\n",
        "        # ... rest of the code ...\n",
        "\n",
        "        Q = update_Q(Q, state, action, reward, learning_rate)\n",
        "        total_reward += reward # Fixed indentation here\n",
        "        if total_reward >= 10 or total_reward <= -10:\n",
        "            break\n",
        "    return Q, total_reward # Fixed indentation here to align with the if statement\n"
      ],
      "metadata": {
        "id": "4sZN5-Msau2x"
      },
      "execution_count": 64,
      "outputs": []
    },
    {
      "cell_type": "code",
      "source": [
        "  num_episodes = 1000\n",
        "  learning_rate = 0.5\n",
        "\n",
        "  for episode in range(num_episodes):\n",
        "    Q, total_reward = run_episode(Q, rewards, learning_rate)"
      ],
      "metadata": {
        "id": "U-44QWO2ebvK"
      },
      "execution_count": 65,
      "outputs": []
    },
    {
      "cell_type": "code",
      "source": [
        "current_state = np.random.randint(num_movies)  # Misalnya, pilih state saat ini secara acak\n",
        "optimal_movie_index = choose_movie(current_state, Q)\n",
        "optimal_movie = movies[optimal_movie_index]\n",
        "print(f\"Rekomendasi film optimal: {optimal_movie}\")"
      ],
      "metadata": {
        "colab": {
          "base_uri": "https://localhost:8080/"
        },
        "collapsed": true,
        "id": "b2JK7RgGbV7i",
        "outputId": "2fd52198-3e68-4874-954c-d719cd967377"
      },
      "execution_count": 66,
      "outputs": [
        {
          "output_type": "stream",
          "name": "stdout",
          "text": [
            "Rekomendasi film optimal: Movie2\n"
          ]
        }
      ]
    },
    {
      "cell_type": "markdown",
      "source": [],
      "metadata": {
        "id": "Lm7zjD5Pgw9u"
      }
    }
  ]
}